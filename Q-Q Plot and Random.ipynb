{
 "cells": [
  {
   "cell_type": "code",
   "execution_count": 35,
   "metadata": {},
   "outputs": [
    {
     "data": {
      "image/png": "[encoded data removed]",
      "text/plain": [
       "<Figure size 432x288 with 1 Axes>"
      ]
     },
     "metadata": {},
     "output_type": "display_data"
    }
   ],
   "source": [
    "#Q-Q Plot\n",
    "\n",
    "import numpy as np\n",
    "import matplotlib.pyplot as mtp\n",
    "import scipy.stats as stats\n",
    "\n",
    "unknown_dataset = np.random.exponential(scale = 3, size = 50000)\n",
    "\n",
    "stats.probplot(unknown_dataset, dist = \"uniform\", plot = mtp)\n",
    "mtp.show()\n",
    "\n"
   ]
  },
  {
   "cell_type": "code",
   "execution_count": 40,
   "metadata": {},
   "outputs": [
    {
     "data": {
      "text/plain": [
       "array([[ 9, 12, 10, 11,  5],\n",
       "       [13, 10, 11, 12, 12],\n",
       "       [ 8,  5, 10, 13, 13],\n",
       "       [ 7, 10, 11,  7,  5]])"
      ]
     },
     "execution_count": 40,
     "metadata": {},
     "output_type": "execute_result"
    }
   ],
   "source": [
    "import numpy as np\n",
    "np.random.randint(low = 5, high = 15, size = [4, 5])\n",
    "\n"
   ]
  },
  {
   "cell_type": "code",
   "execution_count": 45,
   "metadata": {},
   "outputs": [
    {
     "data": {
      "text/plain": [
       "[24, 18, 28, 13, 23, 25, 10, 16, 9, 27]"
      ]
     },
     "execution_count": 45,
     "metadata": {},
     "output_type": "execute_result"
    }
   ],
   "source": [
    "import numpy as np\n",
    "import random as rd\n",
    "orgArr = np.arange(5, 31)\n",
    "sampledArr = rd.sample(list(orgArr), 10)\n",
    "sampledArr"
   ]
  }
 ],
 "metadata": {
  "kernelspec": {
   "display_name": "Python 3",
   "language": "python",
   "name": "python3"
  },
  "language_info": {
   "codemirror_mode": {
    "name": "ipython",
    "version": 3
   },
   "file_extension": ".py",
   "mimetype": "text/x-python",
   "name": "python",
   "nbconvert_exporter": "python",
   "pygments_lexer": "ipython3",
   "version": "3.6.8"
  }
 },
 "nbformat": 4,
 "nbformat_minor": 2
}
