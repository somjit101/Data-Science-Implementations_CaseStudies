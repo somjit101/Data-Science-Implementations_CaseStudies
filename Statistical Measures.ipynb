{
 "cells": [
  {
   "cell_type": "code",
   "execution_count": 8,
   "metadata": {},
   "outputs": [
    {
     "name": "stdout",
     "output_type": "stream",
     "text": [
      "Mean : 5.843333333333335 \n",
      "Median : 5.8\n",
      "Variance : 0.6811222222222222 \n",
      "Median Absolute Deviaton : 1.0378215529539216\n"
     ]
    },
    {
     "data": {
      "image/png": "[encoded data removed]",
      "text/plain": [
       "<Figure size 432x288 with 1 Axes>"
      ]
     },
     "metadata": {},
     "output_type": "display_data"
    }
   ],
   "source": [
    "#Statistical Measures\n",
    "\n",
    "import pandas as pd\n",
    "import numpy as np\n",
    "from statsmodels import robust as rb\n",
    "import matplotlib.pyplot as mtp\n",
    "\n",
    "irisData = pd.read_csv('Datasets/IRIS.csv')\n",
    "\n",
    "meanVal = np.mean(irisData[\"sepal_length\"])\n",
    "medianVal = np.median(irisData[\"sepal_length\"])\n",
    "variance = np.var(irisData[\"sepal_length\"])\n",
    "madVal = rb.mad(irisData[\"sepal_length\"])\n",
    "print(\"Mean : {} \\nMedian : {}\\nVariance : {} \\nMedian Absolute Deviaton : {}\".format(meanVal, medianVal, variance, madVal))\n",
    "mtp.hist(irisData[\"sepal_length\"], 20)\n",
    "mtp.show()"
   ]
  }
 ],
 "metadata": {
  "kernelspec": {
   "display_name": "Python 3",
   "language": "python",
   "name": "python3"
  },
  "language_info": {
   "codemirror_mode": {
    "name": "ipython",
    "version": 3
   },
   "file_extension": ".py",
   "mimetype": "text/x-python",
   "name": "python",
   "nbconvert_exporter": "python",
   "pygments_lexer": "ipython3",
   "version": "3.6.8"
  }
 },
 "nbformat": 4,
 "nbformat_minor": 2
}
